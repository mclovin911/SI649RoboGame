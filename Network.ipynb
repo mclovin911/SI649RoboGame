{
 "cells": [
  {
   "cell_type": "code",
   "execution_count": 1,
   "id": "8a420196",
   "metadata": {},
   "outputs": [],
   "source": [
    "%matplotlib inline\n",
    "import pandas as pd\n",
    "import matplotlib.pyplot as plt\n",
    "import networkx as nx\n",
    "import json\n",
    "import scipy"
   ]
  },
  {
   "cell_type": "code",
   "execution_count": 2,
   "id": "7dc5555b",
   "metadata": {},
   "outputs": [],
   "source": [
    "with open('./example1/examplematch1.socialnet.json') as f:\n",
    "  df1 = json.load(f)"
   ]
  },
  {
   "cell_type": "code",
   "execution_count": 3,
   "id": "e2b2a904",
   "metadata": {},
   "outputs": [],
   "source": [
    "nodes_lst = []\n",
    "links_lst = []\n",
    "def data_setup(data):\n",
    "    df_nodes = data['nodes']\n",
    "    df_links = data['links']\n",
    "    for node in df_nodes:\n",
    "        nodes_lst.append(node['id'])\n",
    "    for link in df_links:\n",
    "        links_lst.append([link['source'],link['target']])"
   ]
  },
  {
   "cell_type": "code",
   "execution_count": 4,
   "id": "27ced179",
   "metadata": {},
   "outputs": [],
   "source": [
    "data_setup(df1)"
   ]
  },
  {
   "cell_type": "code",
   "execution_count": 5,
   "id": "032332c5",
   "metadata": {},
   "outputs": [],
   "source": [
    "G = nx.Graph()"
   ]
  },
  {
   "cell_type": "code",
   "execution_count": 16,
   "id": "2a418085",
   "metadata": {},
   "outputs": [],
   "source": [
    "##socialnet=nx.node_link_graph(df1)\n",
    "##nx.draw_kamada_kawai(socialnet)"
   ]
  },
  {
   "cell_type": "code",
   "execution_count": 18,
   "id": "8cf750ee",
   "metadata": {},
   "outputs": [],
   "source": [
    "##nx.draw_spectral(socialnet)"
   ]
  },
  {
   "cell_type": "code",
   "execution_count": 8,
   "id": "c5041b47",
   "metadata": {},
   "outputs": [],
   "source": [
    "##nx.draw_circular(socialnet)"
   ]
  },
  {
   "cell_type": "code",
   "execution_count": 9,
   "id": "92c6b8b8",
   "metadata": {},
   "outputs": [],
   "source": [
    "from pyvis.network import Network"
   ]
  },
  {
   "cell_type": "code",
   "execution_count": 10,
   "id": "f3746255",
   "metadata": {},
   "outputs": [],
   "source": [
    "nt = Network('800px', '800px',notebook=True)"
   ]
  },
  {
   "cell_type": "code",
   "execution_count": 11,
   "id": "1b3beb35",
   "metadata": {},
   "outputs": [],
   "source": [
    "G.add_nodes_from(nodes_lst)\n",
    "G.add_edges_from(links_lst)"
   ]
  },
  {
   "cell_type": "code",
   "execution_count": 14,
   "id": "b57862f4",
   "metadata": {},
   "outputs": [
    {
     "data": {
      "text/html": [
       "\n",
       "        <iframe\n",
       "            width=\"800px\"\n",
       "            height=\"800px\"\n",
       "            src=\"nx.html\"\n",
       "            frameborder=\"0\"\n",
       "            allowfullscreen\n",
       "        ></iframe>\n",
       "        "
      ],
      "text/plain": [
       "<IPython.lib.display.IFrame at 0x7fce1abe34c0>"
      ]
     },
     "execution_count": 14,
     "metadata": {},
     "output_type": "execute_result"
    }
   ],
   "source": [
    "nt.from_nx(G)\n",
    "nt.show_buttons()\n",
    "nt.show('nx.html')"
   ]
  },
  {
   "cell_type": "code",
   "execution_count": null,
   "id": "dabf43c2",
   "metadata": {},
   "outputs": [],
   "source": []
  },
  {
   "cell_type": "code",
   "execution_count": null,
   "id": "8cfb1ed6",
   "metadata": {},
   "outputs": [],
   "source": []
  }
 ],
 "metadata": {
  "kernelspec": {
   "display_name": "Python 3 (ipykernel)",
   "language": "python",
   "name": "python3"
  },
  "language_info": {
   "codemirror_mode": {
    "name": "ipython",
    "version": 3
   },
   "file_extension": ".py",
   "mimetype": "text/x-python",
   "name": "python",
   "nbconvert_exporter": "python",
   "pygments_lexer": "ipython3",
   "version": "3.9.6"
  }
 },
 "nbformat": 4,
 "nbformat_minor": 5
}
